{
 "cells": [
  {
   "cell_type": "code",
   "execution_count": 14,
   "id": "fff62b37",
   "metadata": {},
   "outputs": [
    {
     "name": "stdout",
     "output_type": "stream",
     "text": [
      "0\n",
      "01\n",
      "012\n",
      "0123\n",
      "01234\n"
     ]
    }
   ],
   "source": [
    "#17a\n",
    "for i in range(5):\n",
    "    for j in range(i):\n",
    "        print(j,end=\"\")\n",
    "    print(i)    \n"
   ]
  },
  {
   "cell_type": "code",
   "execution_count": 34,
   "id": "ae16147b",
   "metadata": {},
   "outputs": [
    {
     "name": "stdout",
     "output_type": "stream",
     "text": [
      "01234\n",
      "0123\n",
      "012\n",
      "01\n",
      "0\n"
     ]
    }
   ],
   "source": [
    "for i in range(1,6):\n",
    "    for j in range(6-i):\n",
    "        print(j, end=\"\")\n",
    "    print( )    "
   ]
  },
  {
   "cell_type": "code",
   "execution_count": 15,
   "id": "487d6ac4",
   "metadata": {},
   "outputs": [
    {
     "name": "stdout",
     "output_type": "stream",
     "text": [
      "Enter any number for countdown: 23\n",
      "23\n",
      "22\n",
      "21\n",
      "20\n",
      "19\n",
      "18\n",
      "17\n",
      "16\n",
      "15\n",
      "14\n",
      "13\n",
      "12\n",
      "11\n",
      "10\n",
      "9\n",
      "8\n",
      "7\n",
      "6\n",
      "5\n",
      "4\n",
      "3\n",
      "2\n",
      "1\n",
      "0\n"
     ]
    }
   ],
   "source": [
    "a=int(input(\"Enter any number for countdown: \"))\n",
    "\n",
    "while a>=0:\n",
    "    print(a)\n",
    "    a=a-1\n",
    "    "
   ]
  },
  {
   "cell_type": "code",
   "execution_count": 30,
   "id": "6d4b8c90",
   "metadata": {},
   "outputs": [
    {
     "name": "stdout",
     "output_type": "stream",
     "text": [
      "Enter any number: 245\n",
      "Factors of 245 are as follows: \n",
      "1\n",
      "5\n",
      "7\n",
      "35\n",
      "49\n",
      "245\n"
     ]
    }
   ],
   "source": [
    "n=int(input(\"Enter any number: \"))\n",
    "if n>0:\n",
    "    print(f\"Factors of {n} are as follows: \")\n",
    "    for i in range(1,n//2+1):\n",
    "        if n%i==0:\n",
    "            print(i)\n",
    "    print(n)            \n",
    "else:\n",
    "    print(\"Enter a positive number!\")\n",
    "    "
   ]
  },
  {
   "cell_type": "code",
   "execution_count": 36,
   "id": "ed63392e",
   "metadata": {},
   "outputs": [
    {
     "name": "stdout",
     "output_type": "stream",
     "text": [
      "Enter any number to reverse: 62970\n",
      "07926"
     ]
    }
   ],
   "source": [
    "a=int(input(\"Enter any number to reverse: \"))\n",
    "rev=0\n",
    "while a>0:\n",
    "    d=a%10\n",
    "    if(d==0):\n",
    "        print(d,end=\"\")\n",
    "    rev=rev*10+d\n",
    "    a=a//10   \n",
    "print(rev,end=\"\")\n",
    "\n",
    "\n"
   ]
  },
  {
   "cell_type": "code",
   "execution_count": 13,
   "id": "b50c8d7a",
   "metadata": {},
   "outputs": [
    {
     "name": "stdout",
     "output_type": "stream",
     "text": [
      "Enter start of range: 132\n",
      "Enter end of range: 555\n",
      "137 139 149 151 157 163 167 173 179 181 191 193 197 199 211 223 227 229 233 239 241 251 257 263 269 271 277 281 283 293 307 311 313 317 331 337 347 349 353 359 367 373 379 383 389 397 401 409 419 421 431 433 439 443 449 457 461 463 467 479 487 491 499 503 509 521 523 541 547 \n",
      "Sum of all prime numbers between 132 and 555 is: 22829 \n"
     ]
    }
   ],
   "source": [
    "a=int(input(\"Enter start of range: \"))\n",
    "b=int(input(\"Enter end of range: \"))\n",
    "s=0\n",
    "for i in range(a,b+1):\n",
    "    f=0\n",
    "    for j in range(2,i//2+1):\n",
    "        if i%j==0:\n",
    "            f=1\n",
    "            break\n",
    "    if f==0:\n",
    "        print(i,end=\" \")\n",
    "        s=s+i\n",
    "print(f\"\\nSum of all prime numbers between {a} and {b} is: {s} \")"
   ]
  },
  {
   "cell_type": "code",
   "execution_count": 8,
   "id": "1d013eb8",
   "metadata": {},
   "outputs": [
    {
     "name": "stdout",
     "output_type": "stream",
     "text": [
      "Enter any number: 32940\n",
      "Sum of digits:  18\n"
     ]
    }
   ],
   "source": [
    "#14\n",
    "n=int(input(\"Enter any number: \"))\n",
    "s=0\n",
    "while(n>0):\n",
    "    s=s+n%10\n",
    "    n=n//10\n",
    "print(\"Sum of digits: \",s)\n",
    "if n<0:\n",
    "    print(\"Enter a positive number!\")\n",
    "    "
   ]
  },
  {
   "cell_type": "code",
   "execution_count": 12,
   "id": "626e0628",
   "metadata": {},
   "outputs": [
    {
     "name": "stdout",
     "output_type": "stream",
     "text": [
      "All Armstrong numbers between 100 and 500: \n",
      "153\n",
      "370\n",
      "371\n",
      "407\n"
     ]
    }
   ],
   "source": [
    "#15\n",
    "print(\"All Armstrong numbers between 100 and 500: \")\n",
    "for i in range(100,501):\n",
    "    s=0\n",
    "    a=i\n",
    "    while(i>0):\n",
    "        b=i%10\n",
    "        s=s+b**3\n",
    "        i=i//10\n",
    "    if(a==s):\n",
    "        print(a)\n"
   ]
  },
  {
   "cell_type": "code",
   "execution_count": 18,
   "id": "94dd3484",
   "metadata": {},
   "outputs": [
    {
     "name": "stdout",
     "output_type": "stream",
     "text": [
      "\n",
      "01234\n",
      "0123\n",
      "012\n",
      "01\n",
      "0"
     ]
    }
   ],
   "source": [
    "#17b\n",
    "for i in range(5):\n",
    "    print()\n",
    "    for j in range(5-i):\n",
    "        print(j,end=\"\")\n",
    "        \n"
   ]
  },
  {
   "cell_type": "code",
   "execution_count": 21,
   "id": "5ef800f2",
   "metadata": {},
   "outputs": [
    {
     "name": "stdout",
     "output_type": "stream",
     "text": [
      "\n",
      "     \n",
      "    0\n",
      "   01\n",
      "  012\n",
      " 0123\n",
      "01234"
     ]
    }
   ],
   "source": [
    "#17c\n",
    "for i in range(6):\n",
    "    print()\n",
    "    for a in range(5-i):\n",
    "        print(\" \",end=\"\")\n",
    "    for j in range(i):\n",
    "        print(j,end=\"\")\n",
    "        \n"
   ]
  },
  {
   "cell_type": "code",
   "execution_count": 22,
   "id": "a807270f",
   "metadata": {},
   "outputs": [
    {
     "name": "stdout",
     "output_type": "stream",
     "text": [
      "\n",
      "01234\n",
      " 0123\n",
      "  012\n",
      "   01\n",
      "    0\n",
      "     "
     ]
    }
   ],
   "source": [
    "#17d\n",
    "for i in range(6):\n",
    "    print()\n",
    "    for a in range(i):\n",
    "        print(\" \",end=\"\")\n",
    "    for j in range(5-i):\n",
    "        print(j,end=\"\")\n",
    "        \n"
   ]
  },
  {
   "cell_type": "code",
   "execution_count": 26,
   "id": "6f0ba11f",
   "metadata": {},
   "outputs": [
    {
     "name": "stdout",
     "output_type": "stream",
     "text": [
      "1 2 3 4 5 \n",
      "2 2 3 4 5 \n",
      "3 3 3 4 5 \n",
      "4 4 4 4 5 \n",
      "5 5 5 5 5 \n"
     ]
    }
   ],
   "source": [
    "#17e\n",
    "for i in range(1,6):\n",
    "    for j in range(i):\n",
    "        print(i,end=\" \")\n",
    "    for a in range(5-i):\n",
    "        print(a+1+i,end=\" \")  \n",
    "    print()    \n"
   ]
  },
  {
   "cell_type": "code",
   "execution_count": 27,
   "id": "c7be6f94",
   "metadata": {},
   "outputs": [
    {
     "name": "stdout",
     "output_type": "stream",
     "text": [
      "\n",
      "1 \n",
      "2 4 \n",
      "3 6 9 \n",
      "4 8 12 16 \n",
      "5 10 15 20 25 \n"
     ]
    }
   ],
   "source": [
    "#17f\n",
    "for i in range(6):\n",
    "    for j in range(1,i+1):\n",
    "        print(i*j,end=\" \")\n",
    "    print()    \n"
   ]
  },
  {
   "cell_type": "code",
   "execution_count": 29,
   "id": "25e19974",
   "metadata": {},
   "outputs": [
    {
     "name": "stdout",
     "output_type": "stream",
     "text": [
      "     *\n",
      "    ***\n",
      "   *****\n",
      "  *******\n",
      "   *****\n",
      "    ***\n",
      "     *\n"
     ]
    }
   ],
   "source": [
    "#17g\n",
    "for z in range(4):\n",
    "    print(\" \" * (4-z), \"*\" * (2*z +1))\n",
    "for z in range(4-2,-1,-1):\n",
    "    print(\" \" * (4-z), \"*\" * (2*z +1))\n",
    "    \n"
   ]
  },
  {
   "cell_type": "code",
   "execution_count": null,
   "id": "8aa7dfdc",
   "metadata": {},
   "outputs": [],
   "source": []
  },
  {
   "cell_type": "code",
   "execution_count": null,
   "id": "85b55a1a",
   "metadata": {},
   "outputs": [],
   "source": []
  }
 ],
 "metadata": {
  "kernelspec": {
   "display_name": "Python 3 (ipykernel)",
   "language": "python",
   "name": "python3"
  },
  "language_info": {
   "codemirror_mode": {
    "name": "ipython",
    "version": 3
   },
   "file_extension": ".py",
   "mimetype": "text/x-python",
   "name": "python",
   "nbconvert_exporter": "python",
   "pygments_lexer": "ipython3",
   "version": "3.10.7"
  }
 },
 "nbformat": 4,
 "nbformat_minor": 5
}
